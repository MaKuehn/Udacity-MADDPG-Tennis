{
 "cells": [
  {
   "cell_type": "markdown",
   "metadata": {},
   "source": [
    "# Collaboration and Competition\n",
    "\n",
    "---\n",
    "\n",
    "You are welcome to use this coding environment to train your agent for the project.  Follow the instructions below to get started!\n",
    "\n",
    "### 1. Start the Environment\n",
    "\n",
    "Run the next code cell to install a few packages.  This line will take a few minutes to run!"
   ]
  },
  {
   "cell_type": "code",
   "execution_count": 1,
   "metadata": {},
   "outputs": [
    {
     "name": "stdout",
     "output_type": "stream",
     "text": [
      "\u001b[31mtensorflow 1.7.1 has requirement numpy>=1.13.3, but you'll have numpy 1.12.1 which is incompatible.\u001b[0m\r\n",
      "\u001b[31mipython 6.5.0 has requirement prompt-toolkit<2.0.0,>=1.0.15, but you'll have prompt-toolkit 3.0.5 which is incompatible.\u001b[0m\r\n"
     ]
    }
   ],
   "source": [
    "!pip -q install ./python"
   ]
  },
  {
   "cell_type": "markdown",
   "metadata": {},
   "source": [
    "The environment is already saved in the Workspace and can be accessed at the file path provided below. "
   ]
  },
  {
   "cell_type": "code",
   "execution_count": 2,
   "metadata": {},
   "outputs": [
    {
     "name": "stderr",
     "output_type": "stream",
     "text": [
      "INFO:unityagents:\n",
      "'Academy' started successfully!\n",
      "Unity Academy name: Academy\n",
      "        Number of Brains: 1\n",
      "        Number of External Brains : 1\n",
      "        Lesson number : 0\n",
      "        Reset Parameters :\n",
      "\t\t\n",
      "Unity brain name: TennisBrain\n",
      "        Number of Visual Observations (per agent): 0\n",
      "        Vector Observation space type: continuous\n",
      "        Vector Observation space size (per agent): 8\n",
      "        Number of stacked Vector Observation: 3\n",
      "        Vector Action space type: continuous\n",
      "        Vector Action space size (per agent): 2\n",
      "        Vector Action descriptions: , \n"
     ]
    }
   ],
   "source": [
    "from unityagents import UnityEnvironment\n",
    "import numpy as np\n",
    "\n",
    "env = UnityEnvironment(file_name=\"/data/Tennis_Linux_NoVis/Tennis\")"
   ]
  },
  {
   "cell_type": "markdown",
   "metadata": {},
   "source": [
    "Environments contain **_brains_** which are responsible for deciding the actions of their associated agents. Here we check for the first brain available, and set it as the default brain we will be controlling from Python."
   ]
  },
  {
   "cell_type": "code",
   "execution_count": 3,
   "metadata": {},
   "outputs": [],
   "source": [
    "# get the default brain\n",
    "brain_name = env.brain_names[0]\n",
    "brain = env.brains[brain_name]"
   ]
  },
  {
   "cell_type": "markdown",
   "metadata": {},
   "source": [
    "### 2. Examine the State and Action Spaces\n",
    "\n",
    "Run the code cell below to print some information about the environment."
   ]
  },
  {
   "cell_type": "code",
   "execution_count": 4,
   "metadata": {},
   "outputs": [
    {
     "name": "stdout",
     "output_type": "stream",
     "text": [
      "Number of agents: 2\n",
      "Size of each action: 2\n",
      "There are 2 agents. Each observes a state with length: 24\n",
      "The state for the first agent looks like: [ 0.          0.          0.          0.          0.          0.          0.\n",
      "  0.          0.          0.          0.          0.          0.          0.\n",
      "  0.          0.         -6.65278625 -1.5        -0.          0.\n",
      "  6.83172083  6.         -0.          0.        ]\n"
     ]
    }
   ],
   "source": [
    "# reset the environment\n",
    "env_info = env.reset(train_mode=True)[brain_name]\n",
    "\n",
    "# number of agents \n",
    "num_agents = len(env_info.agents)\n",
    "print('Number of agents:', num_agents)\n",
    "\n",
    "# size of each action\n",
    "action_size = brain.vector_action_space_size\n",
    "print('Size of each action:', action_size)\n",
    "\n",
    "# examine the state space \n",
    "states = env_info.vector_observations\n",
    "state_size = states.shape[1]\n",
    "print('There are {} agents. Each observes a state with length: {}'.format(states.shape[0], state_size))\n",
    "print('The state for the first agent looks like:', states[0])"
   ]
  },
  {
   "cell_type": "markdown",
   "metadata": {},
   "source": [
    "### 3. Take Random Actions in the Environment\n",
    "\n",
    "In the next code cell, you will learn how to use the Python API to control the agent and receive feedback from the environment.\n",
    "\n",
    "Note that **in this coding environment, you will not be able to watch the agents while they are training**, and you should set `train_mode=True` to restart the environment."
   ]
  },
  {
   "cell_type": "code",
   "execution_count": 5,
   "metadata": {},
   "outputs": [
    {
     "name": "stdout",
     "output_type": "stream",
     "text": [
      "Total score (averaged over agents) this episode: -0.004999999888241291\n",
      "Total score (averaged over agents) this episode: -0.004999999888241291\n",
      "Total score (averaged over agents) this episode: 0.04500000085681677\n",
      "Total score (averaged over agents) this episode: -0.004999999888241291\n",
      "Total score (averaged over agents) this episode: 0.04500000085681677\n"
     ]
    }
   ],
   "source": [
    "for i in range(5):                                         # play game for 5 episodes\n",
    "    env_info = env.reset(train_mode=False)[brain_name]     # reset the environment    \n",
    "    states = env_info.vector_observations                  # get the current state (for each agent)\n",
    "    scores = np.zeros(num_agents)                          # initialize the score (for each agent)\n",
    "    while True:\n",
    "        actions = np.random.randn(num_agents, action_size) # select an action (for each agent)\n",
    "        actions = np.clip(actions, -1, 1)                  # all actions between -1 and 1\n",
    "        env_info = env.step(actions)[brain_name]           # send all actions to tne environment\n",
    "        next_states = env_info.vector_observations         # get next state (for each agent)\n",
    "        rewards = env_info.rewards                         # get reward (for each agent)\n",
    "        dones = env_info.local_done                        # see if episode finished\n",
    "        scores += env_info.rewards                         # update the score (for each agent)\n",
    "        states = next_states                               # roll over states to next time step\n",
    "        if np.any(dones):                                  # exit loop if episode finished\n",
    "            break\n",
    "    print('Total score (averaged over agents) this episode: {}'.format(np.mean(scores)))"
   ]
  },
  {
   "cell_type": "markdown",
   "metadata": {},
   "source": [
    "When finished, you can close the environment."
   ]
  },
  {
   "cell_type": "markdown",
   "metadata": {},
   "source": [
    "### 4. It's Your Turn!\n",
    "\n",
    "Now it's your turn to train your own agent to solve the environment!  A few **important notes**:\n",
    "- When training the environment, set `train_mode=True`, so that the line for resetting the environment looks like the following:\n",
    "```python\n",
    "env_info = env.reset(train_mode=True)[brain_name]\n",
    "```\n",
    "- To structure your work, you're welcome to work directly in this Jupyter notebook, or you might like to start over with a new file!  You can see the list of files in the workspace by clicking on **_Jupyter_** in the top left corner of the notebook.\n",
    "- In this coding environment, you will not be able to watch the agents while they are training.  However, **_after training the agents_**, you can download the saved model weights to watch the agents on your own machine! "
   ]
  },
  {
   "cell_type": "code",
   "execution_count": 6,
   "metadata": {},
   "outputs": [],
   "source": [
    "import numpy as np\n",
    "import matplotlib.pyplot as plt\n",
    "import torch\n",
    "import torch.nn as nn\n",
    "import torch.nn.functional as F\n",
    "import torch.optim as optim\n",
    "import random\n",
    "import copy\n",
    "from collections import namedtuple, deque\n",
    "\n",
    "device = torch.device(\"cuda:0\" if torch.cuda.is_available() else \"cpu\")"
   ]
  },
  {
   "cell_type": "code",
   "execution_count": 7,
   "metadata": {},
   "outputs": [],
   "source": [
    "LR_ACTOR = 5e-4\n",
    "LR_CRITIC = 5e-4\n",
    "TAU = 1e-3\n",
    "WEIGHT_DECAY = 0.0\n",
    "BUFFER_SIZE = int(1e5)\n",
    "BATCH_SIZE = 256\n",
    "GAMMA = 0.99\n",
    "UPDATE_EVERY = 1\n",
    "ADD_NOISE = True\n",
    "NOISE_FACTOR_START = 1.0\n",
    "NOISE_REDUCTION = 0.90\n",
    "RANDOM_SEED = 0"
   ]
  },
  {
   "cell_type": "code",
   "execution_count": 8,
   "metadata": {},
   "outputs": [],
   "source": [
    "class Actor(nn.Module):\n",
    "\n",
    "    def __init__(self, state_size, action_size, seed, fc1_units=256, fc2_units=256, use_BatchNorm=True):\n",
    "        super().__init__()\n",
    "        self.seed = torch.manual_seed(seed)\n",
    "        self.use_BatchNorm = use_BatchNorm\n",
    "        self.fc1 = nn.Linear(state_size, fc1_units)\n",
    "        self.fc2 = nn.Linear(fc1_units, fc2_units)\n",
    "        self.fc3 = nn.Linear(fc2_units, action_size)\n",
    "        \n",
    "        if self.use_BatchNorm:\n",
    "            self.bn1 = nn.BatchNorm1d(fc1_units)\n",
    "\n",
    "    def forward(self, state):\n",
    "        if self.use_BatchNorm and state.dim()==1:\n",
    "            state = torch.unsqueeze(state, 0)\n",
    "        \n",
    "        x = F.relu(self.fc1(state))\n",
    "        \n",
    "        if self.use_BatchNorm:\n",
    "            x = self.bn1(x)\n",
    "            \n",
    "        x = F.relu(self.fc2(x))\n",
    "        return F.tanh(self.fc3(x))\n",
    "\n",
    "\n",
    "class Critic(nn.Module):\n",
    "\n",
    "    def __init__(self, all_state_size, all_action_size, seed, fcs1_units=256, fc2_units=256, use_BatchNorm=True):\n",
    "        super().__init__()\n",
    "        self.seed = torch.manual_seed(seed)\n",
    "        self.use_BatchNorm = use_BatchNorm\n",
    "\n",
    "        self.fcs1 = nn.Linear(all_state_size+all_action_size, fcs1_units)\n",
    "        self.fc2 = nn.Linear(fcs1_units, fc2_units)\n",
    "\n",
    "        self.fc3 = nn.Linear(fc2_units, 1)\n",
    "        \n",
    "        if self.use_BatchNorm:\n",
    "            self.bn1 = nn.BatchNorm1d(fcs1_units)\n",
    "\n",
    "    def forward(self, states, actions):\n",
    "        x = torch.cat((states, actions), dim=1)\n",
    "        x = F.relu(self.fcs1(x))\n",
    "        if self.use_BatchNorm:\n",
    "            x = self.bn1(x)\n",
    "        x = F.relu(self.fc2(x))\n",
    "        return self.fc3(x)"
   ]
  },
  {
   "cell_type": "code",
   "execution_count": 9,
   "metadata": {},
   "outputs": [],
   "source": [
    "class MADDPGAgent:\n",
    "    \n",
    "    def __init__(self, num_agents, state_size, action_size):\n",
    "        self.num_agents = num_agents\n",
    "        self.state_size = state_size\n",
    "        self.action_size = action_size\n",
    "        self.seed = random.seed(RANDOM_SEED)\n",
    "        self.noise_factor = NOISE_FACTOR_START\n",
    "        self.t_step = 0\n",
    "\n",
    "        self.agents = [DDPGAgent(i, self.num_agents, self.state_size, self.action_size, RANDOM_SEED) for i in range(num_agents)]\n",
    "        \n",
    "        self.memory = ReplayBuffer(BUFFER_SIZE, BATCH_SIZE, RANDOM_SEED)\n",
    "        \n",
    "    def step(self, states, actions, rewards, next_states, dones):\n",
    "        self.memory.add(states, actions, rewards, next_states, dones)\n",
    "        \n",
    "        self.t_step = self.t_step + 1\n",
    "        if self.t_step % UPDATE_EVERY == 0:\n",
    "            if len(self.memory) > BATCH_SIZE:\n",
    "                experiences = [ self.memory.sample() for k in range(self.num_agents) ]\n",
    "                self.learn(experiences, GAMMA)\n",
    "\n",
    "    def act(self, states):\n",
    "        actions = []\n",
    "        for agent in self.agents:\n",
    "            action = agent.act(states[agent.agent_id], self.noise_factor, ADD_NOISE)\n",
    "            actions.append(action)\n",
    "        \n",
    "        self.noise_factor = self.noise_factor * NOISE_REDUCTION\n",
    "        return np.array(actions).reshape(-1)\n",
    "\n",
    "    def reset(self):\n",
    "        for agent in self.agents:\n",
    "            agent.reset()\n",
    "  \n",
    "    def learn(self, experiences, gamma):\n",
    "        for agent_id, agent in enumerate(self.agents):\n",
    "            states, actions, rewards, next_states, dones = experiences[agent_id]\n",
    "            next_state = next_states[:, agent_id, :]\n",
    "            if agent_id == 0:\n",
    "                other_next_actions = self.agents[1].actor_target(next_state).detach()\n",
    "            else:\n",
    "                other_next_actions = self.agents[0].actor_target(next_state).detach()\n",
    "            agent.learn(experiences[agent_id], gamma, other_next_actions)\n",
    "\n",
    "class DDPGAgent:\n",
    "    \n",
    "    def __init__(self, agent_id, num_agents, state_size, action_size, random_seed):\n",
    "        self.agent_id = agent_id\n",
    "        \n",
    "        # Actor Network (w/ Target Network)\n",
    "        self.actor_local = Actor(state_size, action_size, seed=0).to(device)\n",
    "        self.actor_target = Actor(state_size, action_size, seed=0).to(device)\n",
    "        self.actor_optimizer = optim.Adam(self.actor_local.parameters(), lr=LR_ACTOR, weight_decay=WEIGHT_DECAY)\n",
    "        \n",
    "        # Critic Network (w/ Target Network)\n",
    "        self.critic_local = Critic(num_agents * state_size, num_agents * action_size, seed=0).to(device)\n",
    "        self.critic_target = Critic(num_agents * state_size, num_agents * action_size, seed=0).to(device)\n",
    "        self.critic_optimizer = optim.Adam(self.critic_local.parameters(), lr=LR_CRITIC, weight_decay=WEIGHT_DECAY)\n",
    "\n",
    "        # Noise process\n",
    "        self.noise = OUNoise(action_size, random_seed)\n",
    "\n",
    "    def act(self, state, noise_factor=1.0, add_noise=True):\n",
    "        state = torch.from_numpy(state).float().to(device)\n",
    "        self.actor_local.eval()\n",
    "        with torch.no_grad():\n",
    "            action = self.actor_local(state).cpu().data.numpy()\n",
    "        self.actor_local.train()\n",
    "        if add_noise:\n",
    "            action += self.noise.sample() * noise_factor\n",
    "        return np.clip(action, -1, 1)\n",
    "\n",
    "    def reset(self):\n",
    "        self.noise.reset()\n",
    "\n",
    "    def learn(self, experiences, gamma, other_next_actions):\n",
    "        states, actions, rewards, next_states, dones = experiences\n",
    "        \n",
    "        # ---------------------------- data prep -------------------------------- #\n",
    "        batch_size = states.shape[0]\n",
    "\n",
    "        own_next_states = next_states[:, self.agent_id, :].reshape(batch_size, -1)\n",
    "        own_states = states[:, self.agent_id, :].reshape(batch_size, -1)\n",
    "        \n",
    "        if self.agent_id == 0:\n",
    "            other_actions = actions[:, 2:]\n",
    "            own_rewards = rewards[:, :1]\n",
    "            own_dones = dones[:, :1]\n",
    "        else:\n",
    "            other_actions = actions[:, :2]\n",
    "            own_rewards = rewards[:, 1:]\n",
    "            own_dones = dones[:, 1:]\n",
    "\n",
    "        # flatten for input\n",
    "        states = states.reshape(batch_size, -1)\n",
    "        actions = actions.reshape(batch_size, -1)\n",
    "        next_states = next_states.reshape(batch_size, -1)\n",
    "\n",
    "        # ---------------------------- update critic ---------------------------- #\n",
    "        actions_next = self.actor_target(own_next_states)\n",
    "        if self.agent_id == 0:\n",
    "            actions_next = torch.cat((actions_next, other_next_actions), dim=1).to(device)\n",
    "        else:\n",
    "            actions_next = torch.cat((other_next_actions, actions_next), dim=1).to(device)\n",
    "\n",
    "        Q_targets_next = self.critic_target(next_states, actions_next)\n",
    "\n",
    "        # Compute Q targets for current states (y_i)\n",
    "        Q_targets = own_rewards + (gamma * Q_targets_next * (1 - own_dones))\n",
    "        Q_targets = Q_targets.detach()\n",
    "\n",
    "        # Compute critic loss\n",
    "        Q_expected = self.critic_local(states, actions)\n",
    "        critic_loss = F.mse_loss(Q_expected, Q_targets)\n",
    "\n",
    "        # Minimize the loss\n",
    "        self.critic_optimizer.zero_grad()\n",
    "        critic_loss.backward()\n",
    "        torch.nn.utils.clip_grad_norm_(self.critic_local.parameters(), 1)\n",
    "\n",
    "        self.critic_optimizer.step()\n",
    "\n",
    "        # ---------------------------- update actor ---------------------------- #\n",
    "        pred_actions = self.actor_local(own_states)\n",
    "\n",
    "        if self.agent_id == 0:\n",
    "            actions_pred = torch.cat((pred_actions, other_actions), dim=1).to(device)\n",
    "        else:\n",
    "            actions_pred = torch.cat((other_actions, pred_actions), dim=1).to(device)\n",
    "\n",
    "        actor_loss = -self.critic_local(states, actions_pred).mean()\n",
    "\n",
    "        # Minimize the loss\n",
    "        self.actor_optimizer.zero_grad()\n",
    "        actor_loss.backward()\n",
    "        self.actor_optimizer.step()\n",
    "\n",
    "        # ----------------------- update target networks ----------------------- #\n",
    "        self.soft_update(self.critic_local, self.critic_target, TAU)\n",
    "        self.soft_update(self.actor_local, self.actor_target, TAU)                     \n",
    "\n",
    "    def soft_update(self, local_model, target_model, tau):\n",
    "        \"\"\"Soft update model parameters.\n",
    "        θ_target = τ*θ_local + (1 - τ)*θ_target\n",
    "\n",
    "        Params\n",
    "        ======\n",
    "            local_model: PyTorch model (weights will be copied from)\n",
    "            target_model: PyTorch model (weights will be copied to)\n",
    "            tau (float): interpolation parameter \n",
    "        \"\"\"\n",
    "        for target_param, local_param in zip(target_model.parameters(), local_model.parameters()):\n",
    "            target_param.data.copy_(tau*local_param.data + (1.0-tau)*target_param.data)\n",
    "\n",
    "\n",
    "class OUNoise:\n",
    "    def __init__(self, size, seed, mu=0., theta=0.15, sigma=0.2):\n",
    "        self.size = size\n",
    "        self.mu = mu * np.ones(size)\n",
    "        self.theta = theta\n",
    "        self.sigma = sigma\n",
    "        self.seed = random.seed(seed)\n",
    "        self.reset()\n",
    "\n",
    "    def reset(self):\n",
    "        self.state = copy.copy(self.mu)\n",
    "\n",
    "    def sample(self):\n",
    "        x = self.state\n",
    "        dx = self.theta * (self.mu - x) + self.sigma * np.random.randn(len(x))\n",
    "\n",
    "        self.state = x + dx\n",
    "        return self.state\n",
    "    \n",
    "\n",
    "class ReplayBuffer:\n",
    "    \n",
    "    def __init__(self, buffer_size, batch_size, seed):\n",
    "        self.memory = deque(maxlen=buffer_size)  # internal memory (deque)\n",
    "        self.batch_size = batch_size\n",
    "        self.experience = namedtuple(\"Experience\", field_names=[\"state\", \"action\", \"reward\", \"next_state\", \"done\"])\n",
    "        self.seed = random.seed(seed)\n",
    "    \n",
    "    def add(self, state, action, reward, next_state, done):\n",
    "        e = self.experience(state, action, reward, next_state, done)\n",
    "        self.memory.append(e)\n",
    "    \n",
    "    def sample(self):\n",
    "        experiences = random.sample(self.memory, k=self.batch_size)\n",
    "\n",
    "        states = torch.from_numpy(np.array([e.state for e in experiences if e is not None])).float().to(device)\n",
    "        actions = torch.from_numpy(np.array([e.action for e in experiences if e is not None])).float().to(device)\n",
    "        rewards = torch.from_numpy(np.array([e.reward for e in experiences if e is not None])).float().to(device)\n",
    "        next_states = torch.from_numpy(np.array([e.next_state for e in experiences if e is not None])).float().to(device)\n",
    "        dones = torch.from_numpy(np.array([e.done for e in experiences if e is not None]).astype(np.uint8)).float().to(device)\n",
    "\n",
    "        return (states, actions, rewards, next_states, dones)\n",
    "\n",
    "    def __len__(self):\n",
    "        return len(self.memory)"
   ]
  },
  {
   "cell_type": "code",
   "execution_count": 10,
   "metadata": {},
   "outputs": [],
   "source": [
    "def maddpg(agent, n_episodes=3500, max_t=1000):\n",
    "    scores = []\n",
    "    scores_deque = deque(maxlen=100)\n",
    "    scores_deque_mean = []\n",
    "    solved = False\n",
    "        \n",
    "    for i_episode in range(1, n_episodes+1):\n",
    "        env_info = env.reset(train_mode=True)[brain_name]\n",
    "        states = env_info.vector_observations\n",
    "        \n",
    "        current_scores = np.zeros(num_agents)\n",
    "        \n",
    "        for t in range(max_t):\n",
    "            actions = agent.act(states)\n",
    "            env_info = env.step(actions)[brain_name]\n",
    "            next_states = env_info.vector_observations\n",
    "            rewards = env_info.rewards\n",
    "            dones = env_info.local_done\n",
    "            \n",
    "            agent.step(states, actions, rewards, next_states, dones)\n",
    "            \n",
    "            states = next_states\n",
    "            current_scores += rewards\n",
    "            if np.any(dones):\n",
    "                break \n",
    "        \n",
    "        max_score = np.max(current_scores)\n",
    "        scores.append(max_score)   \n",
    "        scores_deque.append(max_score)\n",
    "        \n",
    "        scores_avg = np.mean(scores_deque)\n",
    "        scores_deque_mean.append(scores_avg)\n",
    "        \n",
    "        print(f\"\\rEpisode {i_episode}\\tAverage Score: {scores_avg:.3f}\\t\", end=\"\")\n",
    "        if i_episode % 100 == 0:\n",
    "            print(f\"\\rEpisode {i_episode}\\tAverage Score: {scores_avg:.3f}\".format(i_episode, scores_avg))   \n",
    "        if np.mean(scores_deque)>=0.5:\n",
    "            print(f\"\\nSolved in {i_episode} episodes!\\tAverage Score: {scores_avg:.3f}\")\n",
    "            \n",
    "            for i, agent in enumerate(agent.agents):\n",
    "                torch.save(agent.actor_local.state_dict(), f\"agent_{i}_actor_model.pth\")\n",
    "                torch.save(agent.critic_local.state_dict(), f\"agent_{i}_critic_model.pth\")\n",
    "                \n",
    "            solved = True\n",
    "            break\n",
    "    return scores, scores_deque_mean, i_episode, solved"
   ]
  },
  {
   "cell_type": "code",
   "execution_count": 11,
   "metadata": {
    "scrolled": false
   },
   "outputs": [
    {
     "name": "stdout",
     "output_type": "stream",
     "text": [
      "Episode 100\tAverage Score: 0.003\t\n",
      "Episode 200\tAverage Score: 0.007\t\n",
      "Episode 300\tAverage Score: 0.008\t\n",
      "Episode 400\tAverage Score: 0.000\t\n",
      "Episode 500\tAverage Score: 0.023\t\n",
      "Episode 600\tAverage Score: 0.041\t\n",
      "Episode 700\tAverage Score: 0.043\t\n",
      "Episode 800\tAverage Score: 0.040\t\n",
      "Episode 900\tAverage Score: 0.036\t\n",
      "Episode 1000\tAverage Score: 0.096\t\n",
      "Episode 1100\tAverage Score: 0.115\t\n",
      "Episode 1200\tAverage Score: 0.118\t\n",
      "Episode 1300\tAverage Score: 0.139\t\n",
      "Episode 1400\tAverage Score: 0.189\t\n",
      "Episode 1482\tAverage Score: 0.505\t\n",
      "Solved in 1482 episodes!\tAverage Score: 0.505\n"
     ]
    }
   ],
   "source": [
    "agent = MADDPGAgent(num_agents, state_size, action_size)\n",
    "\n",
    "scores, scores_mean, num_episodes_solved, solved = maddpg(agent)"
   ]
  },
  {
   "cell_type": "code",
   "execution_count": 12,
   "metadata": {},
   "outputs": [
    {
     "data": {
      "text/plain": [
       "Text(0.5,0,'Episode')"
      ]
     },
     "execution_count": 12,
     "metadata": {},
     "output_type": "execute_result"
    },
    {
     "data": {
      "image/png": "[encoded data removed]",
      "text/plain": [
       "<matplotlib.figure.Figure at 0x7fc2692947b8>"
      ]
     },
     "metadata": {
      "needs_background": "light"
     },
     "output_type": "display_data"
    }
   ],
   "source": [
    "fig, ax = plt.subplots(figsize=(10,10))\n",
    "ax.plot(np.arange(len(scores)), scores)\n",
    "ax.plot(np.arange(len(scores_mean)), scores_mean)\n",
    "ax.set_title(\"Score over episodes\")\n",
    "ax.set_ylabel(\"Score\")\n",
    "ax.set_xlabel(\"Episode\")"
   ]
  },
  {
   "cell_type": "code",
   "execution_count": 13,
   "metadata": {},
   "outputs": [],
   "source": [
    "env.close()"
   ]
  }
 ],
 "metadata": {
  "kernelspec": {
   "display_name": "Python 3",
   "language": "python",
   "name": "python3"
  },
  "language_info": {
   "codemirror_mode": {
    "name": "ipython",
    "version": 3
   },
   "file_extension": ".py",
   "mimetype": "text/x-python",
   "name": "python",
   "nbconvert_exporter": "python",
   "pygments_lexer": "ipython3",
   "version": "3.6.3"
  }
 },
 "nbformat": 4,
 "nbformat_minor": 2
}
